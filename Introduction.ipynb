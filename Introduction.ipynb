{
 "cells": [
  {
   "cell_type": "code",
   "execution_count": null,
   "metadata": {},
   "outputs": [],
   "source": []
  },
  {
   "cell_type": "markdown",
   "metadata": {},
   "source": [
    "<h1 style=\"text-align:center\">Battle of the Neighbourhoods</h1>\n",
    "<img src='https://www.seetorontonow.com/wp-content/uploads/2020/06/Toronto-Skyline-view-from-lake.jpg'>"
   ]
  },
  {
   "cell_type": "markdown",
   "metadata": {},
   "source": [
    "In this project I will be helping an Investor decide which part of Toronto to set up a Coffee shop. Various factors can affect the success of a startup shop. These Factors will be weighted and used to help our Investor decide which Part of Toronto to Invest in. The factors to be considered are:\n",
    "<li>Viability: This refers to how feasible opening a coffee shop in any of the neighborhoods is. This viability index will be created based on the existing coffee shops in that region. This is based on the assumption that if there is a reasonable amount of coffee shops in a region it implies that the business is relatively profitable.\n",
    "<li>Environmental Factors: Coffee shops do not stand in isolation. The presence of various establishments such as banks, sports centers, parks etc. within a region help to drive more traffic to such neighborhoods, which can improve the conditions for the proposed coffee shop.\n",
    "<li>Population Density: People are constantly looking for a ‘third place’ to spend to spend time that’s neither work or home, so the more the people in a given location the more likely it is for the coffee shop to attract traffic.</li>\n",
    "\n",
    "<br>In this project I will also try to analyze the various parts of Toronto city to see similarities between neighborhoods and discuss the upsides to moving into any of the similar Neighborhoods.\n"
   ]
  },
  {
   "cell_type": "code",
   "execution_count": null,
   "metadata": {},
   "outputs": [],
   "source": []
  }
 ],
 "metadata": {
  "kernelspec": {
   "display_name": "Python 3",
   "language": "python",
   "name": "python3"
  },
  "language_info": {
   "codemirror_mode": {
    "name": "ipython",
    "version": 3
   },
   "file_extension": ".py",
   "mimetype": "text/x-python",
   "name": "python",
   "nbconvert_exporter": "python",
   "pygments_lexer": "ipython3",
   "version": "3.7.6"
  }
 },
 "nbformat": 4,
 "nbformat_minor": 4
}
