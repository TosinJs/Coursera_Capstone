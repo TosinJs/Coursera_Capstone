{
 "cells": [
  {
   "cell_type": "markdown",
   "metadata": {},
   "source": [
    "<h1>Data Sources</h1>"
   ]
  },
  {
   "cell_type": "markdown",
   "metadata": {},
   "source": [
    "<b>Data Sources:</b> In this project four major data sources were used. \n",
    "<li>Neighborhood Data: This data contains a list of all the Neighborhoods in Toronto alongside their corresponding Boroughs and postal codes. This data was scraped from this <a href='https://en.wikipedia.org/wiki/List_of_postal_codes_of_Canada:_M'> Wikipedia page</a> using the BeautifulSoup python library.\n",
    "<li>Location Data: This data contains the Longitude and Latitude of all the neighborhoods in Toronto. This Data was generated using the Geocoder python package.\n",
    "<li>Venue Data: This data contains a list of the common venues within each of the neighborhoods. This data was obtained using the Foursquare API.\n",
    "<li>Population Density Data: This data contains information about the population densities of certain neighborhoods in the city of Toronto. This data was obtained from this<a href='https://en.wikipedia.org/wiki/Demographics_of_Toronto_neighbourhoods'> Wikipedia page</a>.\n"
   ]
  },
  {
   "cell_type": "code",
   "execution_count": null,
   "metadata": {},
   "outputs": [],
   "source": []
  }
 ],
 "metadata": {
  "kernelspec": {
   "display_name": "Python 3",
   "language": "python",
   "name": "python3"
  },
  "language_info": {
   "codemirror_mode": {
    "name": "ipython",
    "version": 3
   },
   "file_extension": ".py",
   "mimetype": "text/x-python",
   "name": "python",
   "nbconvert_exporter": "python",
   "pygments_lexer": "ipython3",
   "version": "3.7.6"
  }
 },
 "nbformat": 4,
 "nbformat_minor": 4
}
